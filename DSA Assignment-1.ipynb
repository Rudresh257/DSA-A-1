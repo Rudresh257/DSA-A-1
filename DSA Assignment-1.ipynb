{
 "cells": [
  {
   "cell_type": "code",
   "execution_count": 1,
   "id": "77df4c3d",
   "metadata": {},
   "outputs": [
    {
     "name": "stdout",
     "output_type": "stream",
     "text": [
      "(1,5)\n",
      "(1,5)\n",
      "(7,-1)\n"
     ]
    }
   ],
   "source": [
    "#Q)1\n",
    "def printpairs(arr,n,sum):\n",
    "    for i in range(0,n):\n",
    "        for j in range(i+1,n):\n",
    "            if(arr[i]+arr[j]==sum):\n",
    "                print(\"(\",arr[i],\",\",arr[j],\")\",sep=\"\")\n",
    "arr = [1,5,7,-1,5]\n",
    "n=len(arr)\n",
    "sum=6\n",
    "printpairs(arr,n,sum)"
   ]
  },
  {
   "cell_type": "code",
   "execution_count": 3,
   "id": "58b88c33",
   "metadata": {},
   "outputs": [
    {
     "name": "stdout",
     "output_type": "stream",
     "text": [
      "[1, 2, 3, 4, 5, 6, 7]\n",
      "Reversed list is\n",
      "[7, 6, 5, 4, 3, 2, 1]\n"
     ]
    }
   ],
   "source": [
    "#Q)2\n",
    "def reverselist(A):\n",
    "    print(A[::-1])\n",
    "A=[1,2,3,4,5,6,7]\n",
    "print(A)\n",
    "print(\"Reversed list is\")\n",
    "reverselist(A)"
   ]
  },
  {
   "cell_type": "code",
   "execution_count": 6,
   "id": "7fa0e86a",
   "metadata": {},
   "outputs": [
    {
     "name": "stdout",
     "output_type": "stream",
     "text": [
      "Strings are rotations of each other\n"
     ]
    }
   ],
   "source": [
    "#Q)3\n",
    "def areRotations(string1,string2):\n",
    "    size1 = len(string1)\n",
    "    size2 = len(string2)\n",
    "    temp = ''\n",
    "    if size1 != size2:\n",
    "        return 0\n",
    "    temp = string1+string1\n",
    "    if(temp.count(string2)>0):\n",
    "        return 1\n",
    "    else:\n",
    "        return 0\n",
    "string1 = \"AACD\"\n",
    "string2 = \"ACDA\"\n",
    "if areRotations(string1,string2):\n",
    "    print(\"Strings are rotations of each other\")\n",
    "else:\n",
    "    print(\"Strings are not rotations of each other\")"
   ]
  },
  {
   "cell_type": "code",
   "execution_count": 7,
   "id": "552105b7",
   "metadata": {},
   "outputs": [
    {
     "name": "stdout",
     "output_type": "stream",
     "text": [
      "Enter the string\n",
      "kavialvidanakehna\n",
      "First non-repeating character is l\n"
     ]
    }
   ],
   "source": [
    "#Q)4\n",
    "NO_OF_CHARS =256\n",
    "def charcount(string):\n",
    "    count = [0] * NO_OF_CHARS\n",
    "    for i in string:\n",
    "        count[ord(i)]+=1\n",
    "    return count\n",
    "def firstnonrepeating(string):\n",
    "    count = charcount(string)\n",
    "    index = -1\n",
    "    k = 0\n",
    "    for i in string:\n",
    "        if count[ord(i)] == 1:\n",
    "            index = k\n",
    "            break\n",
    "        k +=1\n",
    "    return index\n",
    "string = input(\"Enter the string\\n\")\n",
    "index = firstnonrepeating(string)\n",
    "if index == 1:\n",
    "    print(\"Either all characters are repeating or string is empty\")\n",
    "else:\n",
    "    print(\"First non-repeating character is\",string[index])\n",
    "    "
   ]
  },
  {
   "cell_type": "code",
   "execution_count": 7,
   "id": "dfb9da87",
   "metadata": {},
   "outputs": [
    {
     "ename": "AttributeError",
     "evalue": "'evalpostfix' object has no attribute 'centralfunc'",
     "output_type": "error",
     "traceback": [
      "\u001b[1;31m---------------------------------------------------------------------------\u001b[0m",
      "\u001b[1;31mAttributeError\u001b[0m                            Traceback (most recent call last)",
      "\u001b[1;32m~\\AppData\\Local\\Temp/ipykernel_22264/3501320797.py\u001b[0m in \u001b[0;36m<module>\u001b[1;34m\u001b[0m\n\u001b[0;32m     26\u001b[0m \u001b[0mstrconv\u001b[0m \u001b[1;33m=\u001b[0m \u001b[0mstr\u001b[0m\u001b[1;33m.\u001b[0m\u001b[0msplit\u001b[0m\u001b[1;33m(\u001b[0m\u001b[1;34m' '\u001b[0m\u001b[1;33m)\u001b[0m\u001b[1;33m\u001b[0m\u001b[1;33m\u001b[0m\u001b[0m\n\u001b[0;32m     27\u001b[0m \u001b[0mobj\u001b[0m \u001b[1;33m=\u001b[0m \u001b[0mevalpostfix\u001b[0m\u001b[1;33m(\u001b[0m\u001b[1;33m)\u001b[0m\u001b[1;33m\u001b[0m\u001b[1;33m\u001b[0m\u001b[0m\n\u001b[1;32m---> 28\u001b[1;33m \u001b[0mprint\u001b[0m\u001b[1;33m(\u001b[0m\u001b[0mobj\u001b[0m\u001b[1;33m.\u001b[0m\u001b[0mcentralfunc\u001b[0m\u001b[1;33m(\u001b[0m\u001b[0mstrconv\u001b[0m\u001b[1;33m)\u001b[0m\u001b[1;33m)\u001b[0m\u001b[1;33m\u001b[0m\u001b[1;33m\u001b[0m\u001b[0m\n\u001b[0m\u001b[0;32m     29\u001b[0m \u001b[1;33m\u001b[0m\u001b[0m\n",
      "\u001b[1;31mAttributeError\u001b[0m: 'evalpostfix' object has no attribute 'centralfunc'"
     ]
    }
   ],
   "source": [
    "#Q)5\n",
    "class evalpostfix:\n",
    "    def __init__(self):\n",
    "        self.stack =[]\n",
    "        self.top = -1\n",
    "        def pop(self):\n",
    "            if self.top == -1:\n",
    "                return\n",
    "            else:\n",
    "                self.top -= 1\n",
    "            return self.stack.pop()\n",
    "        def push(self,i):\n",
    "            self.top+=1\n",
    "            self.stack.append(i)\n",
    "            \n",
    "        def centralfunc(self,ab):\n",
    "            for i in ab:\n",
    "                try:\n",
    "                    self.push(int(i))\n",
    "                except valueerror:\n",
    "                    val1 = self.pop()\n",
    "                    val2 = self.pop()\n",
    "                    switcher ={'+':val2 + val1, '-':val2-val1, '*':val2 * val1, '/':val2 / val1, '^':val2**val1}\n",
    "                    self.push(switcher.get(i))\n",
    "            return int(self.pop())\n",
    "str ='100 200 + 2 / 5 * 7 +'\n",
    "strconv = str.split(' ')\n",
    "obj = evalpostfix()\n",
    "print(obj.centralfunc(strconv))\n",
    "                    "
   ]
  },
  {
   "cell_type": "code",
   "execution_count": 13,
   "id": "5a23a735",
   "metadata": {},
   "outputs": [
    {
     "name": "stdout",
     "output_type": "stream",
     "text": [
      "(A-(B/C))\n"
     ]
    }
   ],
   "source": [
    "#Q)7\n",
    "def prefixtoinfix(prefix):\n",
    "    stack = []\n",
    "    i = len(prefix)-1\n",
    "    while i>0:\n",
    "        if not isOperator(prefix[i]):\n",
    "            stack.append(prefix[i])\n",
    "            i -=1\n",
    "        else:\n",
    "            str = \"(\" +stack.pop()+prefix[i]+stack.pop()+\")\"\n",
    "            stack.append(str)\n",
    "            i -=1\n",
    "    return stack.pop()\n",
    "def isOperator(c):\n",
    "    if c == \"*\" or c == \"+\" or c == \"-\" or c == \"/\" or c == \"^\" or c == \"(\" or c == \")\":\n",
    "        return True\n",
    "    else:\n",
    "        return False\n",
    "    \n",
    "if __name__==\"__main__\":\n",
    "    str = \"*-A/BC-/AKL\"\n",
    "    print(prefixtoinfix(str))"
   ]
  },
  {
   "cell_type": "code",
   "execution_count": 17,
   "id": "a82ef7c7",
   "metadata": {},
   "outputs": [
    {
     "name": "stdout",
     "output_type": "stream",
     "text": [
      "Not Balanced\n"
     ]
    }
   ],
   "source": [
    "#Q)8\n",
    "def areBracketsBalanced(expr):\n",
    "    stack = []\n",
    "    for char in expr:\n",
    "        if char in [\"(\", \"{\", \"[\"]:\n",
    "            stack.append(char)\n",
    "        else:\n",
    "            if not stack:\n",
    "                return False\n",
    "            current_char = stack.pop()\n",
    "            if current_char == '(':\n",
    "                if char != \")\":\n",
    "                    return False\n",
    "            if current_char == '{':\n",
    "                if char != \"}\":\n",
    "                    return False\n",
    "            if current_char == '[':\n",
    "                if char != \"]\":\n",
    "                    return False\n",
    "        if stack:\n",
    "            return False\n",
    "        return True\n",
    "if __name__ == \"__main__\":\n",
    "    expr = \"{()}[\"\n",
    "    if areBracketsBalanced(expr):\n",
    "        print(\"Balanced\")\n",
    "    else:\n",
    "        print(\"Not Balanced\")"
   ]
  },
  {
   "cell_type": "code",
   "execution_count": 2,
   "id": "303d4a83",
   "metadata": {},
   "outputs": [
    {
     "name": "stdout",
     "output_type": "stream",
     "text": [
      "Original Stack\n",
      "5\n",
      "4\n",
      "3\n",
      "2\n",
      "1\n",
      "\n",
      "Stack after Reversing\n",
      "1\n",
      "2\n",
      "3\n",
      "4\n",
      "5\n"
     ]
    }
   ],
   "source": [
    "#Q)9\n",
    "class Stack:\n",
    "    def __init__(self):\n",
    "        self.Elements = []\n",
    "    def push(self, value):\n",
    "        self.Elements.append(value)\n",
    "    def pop(self):\n",
    "        return self.Elements.pop()\n",
    "    def empty(self):\n",
    "        return self.Elements == []\n",
    "    def show(self):\n",
    "        for value in reversed(self.Elements):\n",
    "            print(value)\n",
    "def BottomInsert(s, value):\n",
    "    if s.empty():\n",
    "        s.push(value)\n",
    "    else:\n",
    "        popped = s.pop()\n",
    "        BottomInsert(s, value)\n",
    "        s.push(popped)\n",
    "def Reverse(s):\n",
    "    if s.empty():\n",
    "        pass\n",
    "    else:\n",
    "        popped = s.pop()\n",
    "        Reverse(s)\n",
    "        BottomInsert(s, popped)\n",
    "stk = Stack()\n",
    " \n",
    "stk.push(1)\n",
    "stk.push(2)\n",
    "stk.push(3)\n",
    "stk.push(4)\n",
    "stk.push(5)\n",
    " \n",
    "print(\"Original Stack\")\n",
    "stk.show()\n",
    " \n",
    "print(\"\\nStack after Reversing\")\n",
    "Reverse(stk)\n",
    "stk.show()"
   ]
  },
  {
   "cell_type": "code",
   "execution_count": 5,
   "id": "c8778e25",
   "metadata": {},
   "outputs": [
    {
     "name": "stdout",
     "output_type": "stream",
     "text": [
      "Number Inserted: 3\n",
      "Number Inserted: 5\n",
      "Minimum Element in the stack is: 3\n",
      "Number Inserted: 2\n",
      "Number Inserted: 1\n",
      "Minimum Element in the stack is: 1\n",
      "Top Most Element Removed :1 \n",
      "Minimum Element in the stack is: 2\n",
      "Top Most Element Removed :2 \n",
      "Top Most Element is: 5\n"
     ]
    }
   ],
   "source": [
    "#Q)10\n",
    "class Node:\n",
    "    def __init__(self, value):\n",
    "        self.value = value\n",
    "        self.next = None\n",
    "    def __str__(self):\n",
    "        return \"Node({})\".format(self.value)\n",
    "    __repr__ = __str__\n",
    "    \n",
    "class Stack:\n",
    "    def __init__(self):\n",
    "        self.top = None\n",
    "        self.count = 0\n",
    "        self.minimum = None\n",
    "        \n",
    "    def __str__(self):\n",
    "        temp = self.top\n",
    "        out = []\n",
    "        while temp:\n",
    "            out.append(str(temp.value))\n",
    "            temp = temp.next\n",
    "        out = '\\n'.join(out)\n",
    "        return ('Top {} \\n\\nStack :\\n{}'.format(self.top,out))\n",
    "    __repr__=__str__\n",
    "    \n",
    "    def getMin(self):\n",
    "        if self.top is None:\n",
    "            return \"Stack is empty\"\n",
    "        else:\n",
    "            print(\"Minimum Element in the stack is: {}\" .format(self.minimum))\n",
    "    def isEmpty(self):\n",
    "        if self.top == None:\n",
    "            return True\n",
    "        else:\n",
    "            return False\n",
    "    def __len__(self):\n",
    "        self.count = 0\n",
    "        tempNode = self.top\n",
    "        while tempNode:\n",
    "            tempNode = tempNode.next\n",
    "            self.count+=1\n",
    "        return self.count\n",
    "    def peek(self):\n",
    "        if self.top is None:\n",
    "            print (\"Stack is empty\")\n",
    "        else:\n",
    "            if self.top.value < self.minimum:\n",
    "                print(\"Top Most Element is: {}\" .format(self.minimum))\n",
    "            else:\n",
    "                print(\"Top Most Element is: {}\" .format(self.top.value))\n",
    "    def push(self,value):\n",
    "        if self.top is None:\n",
    "            self.top = Node(value)\n",
    "            self.minimum = value\n",
    "         \n",
    "        elif value < self.minimum:\n",
    "            temp = (2 * value) - self.minimum\n",
    "            new_node = Node(temp)\n",
    "            new_node.next = self.top\n",
    "            self.top = new_node\n",
    "            self.minimum = value\n",
    "        else:\n",
    "            new_node = Node(value)\n",
    "            new_node.next = self.top\n",
    "            self.top = new_node\n",
    "        print(\"Number Inserted: {}\" .format(value))\n",
    "    def pop(self):\n",
    "        if self.top is None:\n",
    "            print( \"Stack is empty\")\n",
    "        else:\n",
    "            removedNode = self.top.value\n",
    "            self.top = self.top.next\n",
    "            if removedNode < self.minimum:\n",
    "                print (\"Top Most Element Removed :{} \" .format(self.minimum))\n",
    "                self.minimum = ( ( 2 * self.minimum ) - removedNode )\n",
    "            else:\n",
    "                print (\"Top Most Element Removed : {}\" .format(removedNode))\n",
    "stack = Stack()\n",
    " \n",
    "stack.push(3)\n",
    "stack.push(5)\n",
    "stack.getMin()\n",
    "stack.push(2)\n",
    "stack.push(1)\n",
    "stack.getMin()    \n",
    "stack.pop()\n",
    "stack.getMin()\n",
    "stack.pop()\n",
    "stack.peek()"
   ]
  },
  {
   "cell_type": "code",
   "execution_count": null,
   "id": "41518e57",
   "metadata": {},
   "outputs": [],
   "source": []
  }
 ],
 "metadata": {
  "kernelspec": {
   "display_name": "Python 3 (ipykernel)",
   "language": "python",
   "name": "python3"
  },
  "language_info": {
   "codemirror_mode": {
    "name": "ipython",
    "version": 3
   },
   "file_extension": ".py",
   "mimetype": "text/x-python",
   "name": "python",
   "nbconvert_exporter": "python",
   "pygments_lexer": "ipython3",
   "version": "3.10.0"
  }
 },
 "nbformat": 4,
 "nbformat_minor": 5
}
